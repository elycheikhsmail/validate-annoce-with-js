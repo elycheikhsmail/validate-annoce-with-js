{
 "cells": [
  {
   "cell_type": "code",
   "execution_count": 4,
   "id": "ba211e3b",
   "metadata": {},
   "outputs": [
    {
     "name": "stdout",
     "output_type": "stream",
     "text": [
      "Connected successfully to MongoDB server\n",
      "Successfully updated 1 document(s).\n",
      "Connection closed\n"
     ]
    }
   ],
   "source": [
    " \n",
    "// Import the MongoClient and ObjectId from the npm mongodb package\n",
    "import { MongoClient, ObjectId } from \"npm:mongodb\";\n",
    "\n",
    "// Connection string for local MongoDB\n",
    "const uri = \"mongodb://localhost:27017/\";\n",
    "\n",
    "// Database name\n",
    "const dbName = \"rim-ebay\";\n",
    "\n",
    "// Collection name\n",
    "const collectionName = \"Annonce\";\n",
    "\n",
    "// The specific ID to update\n",
    "const annonceId = \"687f5682b9f671ec9d6ef516\";\n",
    "\n",
    "// Example update data - modify this as needed\n",
    "const updateData = {\n",
    "  $set: {\n",
    "    isDescriptionCheckedByIA: true,\n",
    "    isValidForPublicationByIA: true\n",
    "  }\n",
    "};\n",
    "\n",
    "// Async function to connect and update the specific document\n",
    "async function updateAnnonce(uri:string, dbName:string, collectionName:string, annonceId:string, updateData:any) {\n",
    "  // Create a new MongoClient\n",
    "  const client = new MongoClient(uri);\n",
    "\n",
    "  try {\n",
    "    // Connect to the MongoDB server\n",
    "    await client.connect();\n",
    "    console.log(\"Connected successfully to MongoDB server\");\n",
    "\n",
    "    // Select the database\n",
    "    const db = client.db(dbName);\n",
    "\n",
    "    // Select the collection\n",
    "    const collection = db.collection(collectionName);\n",
    "\n",
    "    // Update the document by _id\n",
    "    const result = await collection.updateOne(\n",
    "      { _id: new ObjectId(annonceId) },\n",
    "      updateData\n",
    "    );\n",
    "\n",
    "    if (result.matchedCount > 0) {\n",
    "      console.log(`Successfully updated ${result.modifiedCount} document(s).`);\n",
    "    } else {\n",
    "      console.log(\"No document found with the given ID.\");\n",
    "    }\n",
    "\n",
    "  } catch (error) {\n",
    "    console.error(\"Error connecting to MongoDB or updating data:\", error);\n",
    "  } finally {\n",
    "    // Close the connection\n",
    "    await client.close();\n",
    "    console.log(\"Connection closed\");\n",
    "  }\n",
    "}\n",
    "\n",
    "// Run the main function\n",
    "await  updateAnnonce(uri, dbName, collectionName, annonceId, updateData);\n",
    " "
   ]
  }
 ],
 "metadata": {
  "kernelspec": {
   "display_name": "Deno",
   "language": "typescript",
   "name": "deno"
  },
  "language_info": {
   "codemirror_mode": "typescript",
   "file_extension": ".ts",
   "mimetype": "text/x.typescript",
   "name": "typescript",
   "nbconvert_exporter": "script",
   "pygments_lexer": "typescript",
   "version": "5.8.3"
  }
 },
 "nbformat": 4,
 "nbformat_minor": 5
}
