{
 "cells": [
  {
   "cell_type": "markdown",
   "id": "288e6df1",
   "metadata": {},
   "source": [
    "# connect to groq via fetch, the standard js api for http call using deno"
   ]
  },
  {
   "cell_type": "code",
   "execution_count": null,
   "id": "19765635",
   "metadata": {},
   "outputs": [],
   "source": [
    "\n",
    "import \"jsr:@std/dotenv/load\";\n",
    "const apiKeyValue = Deno.env.get(\"GROQ_API_KEY\")||\"\";\n",
    "export async function callGroqAPI(apiKey: string): Promise<any> {\n",
    "  const url = \"https://api.groq.com/openai/v1/chat/completions\";\n",
    "  const headers = {\n",
    "    \"Authorization\": `Bearer ${apiKey}`,\n",
    "    \"Content-Type\": \"application/json\",\n",
    "  };\n",
    "  const body = {\n",
    "    messages: [\n",
    "      { role: \"user\", \n",
    "        content: \"quelle est la capitale de la france ?\",\n",
    "        //\"Explain the importance of fast language models\" \n",
    "      }\n",
    "    ],\n",
    "    model: \"llama-3.3-70b-versatile\"\n",
    "  };\n",
    "\n",
    "  const response = await fetch(url, {\n",
    "    method: \"POST\",\n",
    "    headers,\n",
    "    body: JSON.stringify(body)\n",
    "  });\n",
    "\n",
    "  return await response.json();\n",
    "}\n",
    "\n",
    "const resp =  await callGroqAPI(apiKeyValue);\n",
    "console.log(resp);\n"
   ]
  },
  {
   "cell_type": "markdown",
   "id": "c82f94b1",
   "metadata": {},
   "source": [
    "# connect to groq via js sdk using deno"
   ]
  },
  {
   "cell_type": "code",
   "execution_count": null,
   "id": "c3315eb9",
   "metadata": {},
   "outputs": [],
   "source": [
    "import \"jsr:@std/dotenv/load\";\n",
    "import Groq from \"npm:groq-sdk\";\n",
    "const apiKey = Deno.env.get(\"GROQ_API_KEY\")||\"\"; \n",
    "\n",
    "const groq = new Groq({ apiKey});\n",
    "\n",
    "export async function getGroqChatCompletion() {\n",
    "  return await groq.chat.completions.create({\n",
    "    messages: [\n",
    "      {\n",
    "        role: \"user\",\n",
    "        content: \"quelle est la capitale de la france ?\",\n",
    "        //\"Explain the importance of fast language models\"\n",
    "        //\"quelle est la capitale de la france ?\",\n",
    "      },\n",
    "    ],\n",
    "    model: \"openai/gpt-oss-20b\",\n",
    "  });\n",
    "}\n",
    "\n",
    "\n",
    "export async function main() {\n",
    "  const chatCompletion = await getGroqChatCompletion();\n",
    "  // Print the completion returned by the LLM.\n",
    "  console.log(chatCompletion.choices[0]?.message?.content || \"\");\n",
    "}\n",
    "\n",
    "await main();"
   ]
  }
 ],
 "metadata": {
  "kernelspec": {
   "display_name": "Deno",
   "language": "typescript",
   "name": "deno"
  },
  "language_info": {
   "codemirror_mode": "typescript",
   "file_extension": ".ts",
   "mimetype": "text/x.typescript",
   "name": "typescript",
   "nbconvert_exporter": "script",
   "pygments_lexer": "typescript",
   "version": "5.8.3"
  }
 },
 "nbformat": 4,
 "nbformat_minor": 5
}
