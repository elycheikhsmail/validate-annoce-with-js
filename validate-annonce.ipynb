{
 "cells": [
  {
   "cell_type": "markdown",
   "id": "c82f94b1",
   "metadata": {},
   "source": [
    "# validate annonce"
   ]
  },
  {
   "cell_type": "code",
   "execution_count": null,
   "id": "c3315eb9",
   "metadata": {},
   "outputs": [
    {
     "name": "stdout",
     "output_type": "stream",
     "text": [
      "REJETER\n"
     ]
    }
   ],
   "source": [
    "import \"jsr:@std/dotenv/load\";\n",
    "import Groq from \"npm:groq-sdk\";\n",
    "const apiKey = Deno.env.get(\"GROQ_API_KEY\")||\"\"; \n",
    "\n",
    "const groq = new Groq({ apiKey});\n",
    "const  systemIsntruction=`\n",
    "Vous êtes un agent de modération pour une plateforme de petites annonces. Votre but est de valider ou de rejeter une annonce basée sur son contenu.\"\n",
    "\n",
    "Instructions :\n",
    "\n",
    "Valider une annonce si elle est clairement liée à la vente ou à la location d'un article ou un service tels que la réparation des electricite des batiments\n",
    "\n",
    "Rejeter une annonce si :\n",
    "\n",
    "Le contenu est de nature politique.\n",
    "\n",
    "Il ne s'agit pas d'une annonce de vente ou de location ou un service\n",
    "\n",
    "Le contenu est offensant, illégal ou inapproprié.\n",
    "\n",
    "Format de sortie : \"Répondez avec un seul mot : 'PUBLIER' si l'annonce est valide, sinon 'REJETER'.\n",
    "\n",
    "`\n",
    "const annonceDesciption = \"voter pour macron\";\n",
    "//\"une voiture d'occasion en bon etat\"\n",
    "\n",
    "export async function getGroqChatCompletion() {\n",
    "  return await groq.chat.completions.create({\n",
    "    messages: [\n",
    "        {\n",
    "      role: \"system\",\n",
    "      content: systemIsntruction,\n",
    "    },\n",
    "      {\n",
    "        role: \"user\",\n",
    "        content:annonceDesciption\n",
    "      },\n",
    "    ],\n",
    "    model: \"openai/gpt-oss-120b\", \n",
    "  });\n",
    "}\n",
    "\n",
    "\n",
    "export async function main() {\n",
    "  const chatCompletion = await getGroqChatCompletion();\n",
    "  // Print the completion returned by the LLM.\n",
    "  console.log(chatCompletion.choices[0]?.message?.content || \"\");\n",
    "}\n",
    "\n",
    "await main();"
   ]
  }
 ],
 "metadata": {
  "kernelspec": {
   "display_name": "Deno",
   "language": "typescript",
   "name": "deno"
  },
  "language_info": {
   "codemirror_mode": "typescript",
   "file_extension": ".ts",
   "mimetype": "text/x.typescript",
   "name": "typescript",
   "nbconvert_exporter": "script",
   "pygments_lexer": "typescript",
   "version": "5.8.3"
  }
 },
 "nbformat": 4,
 "nbformat_minor": 5
}
